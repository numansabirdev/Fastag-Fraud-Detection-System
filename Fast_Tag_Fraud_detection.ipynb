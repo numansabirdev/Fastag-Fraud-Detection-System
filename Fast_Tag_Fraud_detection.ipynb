{
 "cells": [
  {
   "cell_type": "markdown",
   "metadata": {
    "id": "xhK7KHZzvZ_b"
   },
   "source": [
    "**Import Libraries**"
   ]
  },
  {
   "cell_type": "code",
   "execution_count": 1,
   "metadata": {
    "id": "hCJtSrCUvBCe"
   },
   "outputs": [],
   "source": [
    "import pandas as pd\n",
    "import numpy as np\n",
    "import seaborn as sns\n",
    "import matplotlib.pyplot as plt\n",
    "from sklearn.preprocessing import StandardScaler, LabelEncoder\n",
    "from sklearn.model_selection import train_test_split, GridSearchCV\n",
    "from sklearn.ensemble import RandomForestClassifier\n",
    "from sklearn.metrics import classification_report, confusion_matrix, accuracy_score, precision_score, recall_score, f1_score\n",
    "from imblearn.over_sampling import SMOTE\n",
    "from datetime import datetime\n",
    "import joblib\n"
   ]
  },
  {
   "cell_type": "markdown",
   "metadata": {
    "id": "rRExjTdsvdtd"
   },
   "source": [
    "**Load Dataset**"
   ]
  },
  {
   "cell_type": "code",
   "execution_count": 2,
   "metadata": {
    "id": "snS1_CCKvh0B"
   },
   "outputs": [],
   "source": [
    "df = pd.read_csv('FastagFraudDetection.csv')"
   ]
  },
  {
   "cell_type": "markdown",
   "metadata": {
    "id": "WbrJg6xWvTbN"
   },
   "source": [
    "# 1. Data Exploration"
   ]
  },
  {
   "cell_type": "code",
   "execution_count": 3,
   "metadata": {
    "colab": {
     "base_uri": "https://localhost:8080/",
     "height": 300
    },
    "id": "VdDul50tvYr_",
    "outputId": "c3ec1139-4722-4ed4-cf20-9ae0cc16b57e"
   },
   "outputs": [
    {
     "data": {
      "text/html": [
       "<div>\n",
       "<style scoped>\n",
       "    .dataframe tbody tr th:only-of-type {\n",
       "        vertical-align: middle;\n",
       "    }\n",
       "\n",
       "    .dataframe tbody tr th {\n",
       "        vertical-align: top;\n",
       "    }\n",
       "\n",
       "    .dataframe thead th {\n",
       "        text-align: right;\n",
       "    }\n",
       "</style>\n",
       "<table border=\"1\" class=\"dataframe\">\n",
       "  <thead>\n",
       "    <tr style=\"text-align: right;\">\n",
       "      <th></th>\n",
       "      <th>Transaction_ID</th>\n",
       "      <th>Transaction_Amount</th>\n",
       "      <th>Amount_paid</th>\n",
       "      <th>Vehicle_Speed</th>\n",
       "    </tr>\n",
       "  </thead>\n",
       "  <tbody>\n",
       "    <tr>\n",
       "      <th>count</th>\n",
       "      <td>5000.000000</td>\n",
       "      <td>5000.00000</td>\n",
       "      <td>5000.000000</td>\n",
       "      <td>5000.000000</td>\n",
       "    </tr>\n",
       "    <tr>\n",
       "      <th>mean</th>\n",
       "      <td>2500.500000</td>\n",
       "      <td>161.06200</td>\n",
       "      <td>141.261000</td>\n",
       "      <td>67.851200</td>\n",
       "    </tr>\n",
       "    <tr>\n",
       "      <th>std</th>\n",
       "      <td>1443.520003</td>\n",
       "      <td>112.44995</td>\n",
       "      <td>106.480996</td>\n",
       "      <td>16.597547</td>\n",
       "    </tr>\n",
       "    <tr>\n",
       "      <th>min</th>\n",
       "      <td>1.000000</td>\n",
       "      <td>0.00000</td>\n",
       "      <td>0.000000</td>\n",
       "      <td>10.000000</td>\n",
       "    </tr>\n",
       "    <tr>\n",
       "      <th>25%</th>\n",
       "      <td>1250.750000</td>\n",
       "      <td>100.00000</td>\n",
       "      <td>90.000000</td>\n",
       "      <td>54.000000</td>\n",
       "    </tr>\n",
       "    <tr>\n",
       "      <th>50%</th>\n",
       "      <td>2500.500000</td>\n",
       "      <td>130.00000</td>\n",
       "      <td>120.000000</td>\n",
       "      <td>67.000000</td>\n",
       "    </tr>\n",
       "    <tr>\n",
       "      <th>75%</th>\n",
       "      <td>3750.250000</td>\n",
       "      <td>290.00000</td>\n",
       "      <td>160.000000</td>\n",
       "      <td>82.000000</td>\n",
       "    </tr>\n",
       "    <tr>\n",
       "      <th>max</th>\n",
       "      <td>5000.000000</td>\n",
       "      <td>350.00000</td>\n",
       "      <td>350.000000</td>\n",
       "      <td>118.000000</td>\n",
       "    </tr>\n",
       "  </tbody>\n",
       "</table>\n",
       "</div>"
      ],
      "text/plain": [
       "       Transaction_ID  Transaction_Amount  Amount_paid  Vehicle_Speed\n",
       "count     5000.000000          5000.00000  5000.000000    5000.000000\n",
       "mean      2500.500000           161.06200   141.261000      67.851200\n",
       "std       1443.520003           112.44995   106.480996      16.597547\n",
       "min          1.000000             0.00000     0.000000      10.000000\n",
       "25%       1250.750000           100.00000    90.000000      54.000000\n",
       "50%       2500.500000           130.00000   120.000000      67.000000\n",
       "75%       3750.250000           290.00000   160.000000      82.000000\n",
       "max       5000.000000           350.00000   350.000000     118.000000"
      ]
     },
     "execution_count": 3,
     "metadata": {},
     "output_type": "execute_result"
    }
   ],
   "source": [
    "df.describe()"
   ]
  },
  {
   "cell_type": "code",
   "execution_count": 4,
   "metadata": {
    "colab": {
     "base_uri": "https://localhost:8080/"
    },
    "id": "yiXkzoe-v9iO",
    "outputId": "bf0d497c-4eae-4e14-cef7-5bef2b2f26cf"
   },
   "outputs": [
    {
     "name": "stdout",
     "output_type": "stream",
     "text": [
      "<class 'pandas.core.frame.DataFrame'>\n",
      "RangeIndex: 5000 entries, 0 to 4999\n",
      "Data columns (total 13 columns):\n",
      " #   Column                 Non-Null Count  Dtype \n",
      "---  ------                 --------------  ----- \n",
      " 0   Transaction_ID         5000 non-null   int64 \n",
      " 1   Timestamp              5000 non-null   object\n",
      " 2   Vehicle_Type           5000 non-null   object\n",
      " 3   FastagID               4451 non-null   object\n",
      " 4   TollBoothID            5000 non-null   object\n",
      " 5   Lane_Type              5000 non-null   object\n",
      " 6   Vehicle_Dimensions     5000 non-null   object\n",
      " 7   Transaction_Amount     5000 non-null   int64 \n",
      " 8   Amount_paid            5000 non-null   int64 \n",
      " 9   Geographical_Location  5000 non-null   object\n",
      " 10  Vehicle_Speed          5000 non-null   int64 \n",
      " 11  Vehicle_Plate_Number   5000 non-null   object\n",
      " 12  Fraud_indicator        5000 non-null   object\n",
      "dtypes: int64(4), object(9)\n",
      "memory usage: 507.9+ KB\n"
     ]
    }
   ],
   "source": [
    "df.info()"
   ]
  },
  {
   "cell_type": "code",
   "execution_count": 5,
   "metadata": {
    "colab": {
     "base_uri": "https://localhost:8080/",
     "height": 313
    },
    "id": "r8okbEcSv_xw",
    "outputId": "81492250-8522-48d9-f133-2b0300adba2c"
   },
   "outputs": [
    {
     "data": {
      "text/html": [
       "<div>\n",
       "<style scoped>\n",
       "    .dataframe tbody tr th:only-of-type {\n",
       "        vertical-align: middle;\n",
       "    }\n",
       "\n",
       "    .dataframe tbody tr th {\n",
       "        vertical-align: top;\n",
       "    }\n",
       "\n",
       "    .dataframe thead th {\n",
       "        text-align: right;\n",
       "    }\n",
       "</style>\n",
       "<table border=\"1\" class=\"dataframe\">\n",
       "  <thead>\n",
       "    <tr style=\"text-align: right;\">\n",
       "      <th></th>\n",
       "      <th>Transaction_ID</th>\n",
       "      <th>Timestamp</th>\n",
       "      <th>Vehicle_Type</th>\n",
       "      <th>FastagID</th>\n",
       "      <th>TollBoothID</th>\n",
       "      <th>Lane_Type</th>\n",
       "      <th>Vehicle_Dimensions</th>\n",
       "      <th>Transaction_Amount</th>\n",
       "      <th>Amount_paid</th>\n",
       "      <th>Geographical_Location</th>\n",
       "      <th>Vehicle_Speed</th>\n",
       "      <th>Vehicle_Plate_Number</th>\n",
       "      <th>Fraud_indicator</th>\n",
       "    </tr>\n",
       "  </thead>\n",
       "  <tbody>\n",
       "    <tr>\n",
       "      <th>0</th>\n",
       "      <td>1</td>\n",
       "      <td>1/6/2023 11:20</td>\n",
       "      <td>Bus</td>\n",
       "      <td>FTG-001-ABC-121</td>\n",
       "      <td>A-101</td>\n",
       "      <td>Express</td>\n",
       "      <td>Large</td>\n",
       "      <td>350</td>\n",
       "      <td>120</td>\n",
       "      <td>13.059816123454882, 77.77068662374292</td>\n",
       "      <td>65</td>\n",
       "      <td>KA11AB1234</td>\n",
       "      <td>Fraud</td>\n",
       "    </tr>\n",
       "    <tr>\n",
       "      <th>1</th>\n",
       "      <td>2</td>\n",
       "      <td>1/7/2023 14:55</td>\n",
       "      <td>Car</td>\n",
       "      <td>FTG-002-XYZ-451</td>\n",
       "      <td>B-102</td>\n",
       "      <td>Regular</td>\n",
       "      <td>Small</td>\n",
       "      <td>120</td>\n",
       "      <td>100</td>\n",
       "      <td>13.059816123454882, 77.77068662374292</td>\n",
       "      <td>78</td>\n",
       "      <td>KA66CD5678</td>\n",
       "      <td>Fraud</td>\n",
       "    </tr>\n",
       "    <tr>\n",
       "      <th>2</th>\n",
       "      <td>3</td>\n",
       "      <td>1/8/2023 18:25</td>\n",
       "      <td>Motorcycle</td>\n",
       "      <td>NaN</td>\n",
       "      <td>D-104</td>\n",
       "      <td>Regular</td>\n",
       "      <td>Small</td>\n",
       "      <td>0</td>\n",
       "      <td>0</td>\n",
       "      <td>13.059816123454882, 77.77068662374292</td>\n",
       "      <td>53</td>\n",
       "      <td>KA88EF9012</td>\n",
       "      <td>Not Fraud</td>\n",
       "    </tr>\n",
       "    <tr>\n",
       "      <th>3</th>\n",
       "      <td>4</td>\n",
       "      <td>1/9/2023 2:05</td>\n",
       "      <td>Truck</td>\n",
       "      <td>FTG-044-LMN-322</td>\n",
       "      <td>C-103</td>\n",
       "      <td>Regular</td>\n",
       "      <td>Large</td>\n",
       "      <td>350</td>\n",
       "      <td>120</td>\n",
       "      <td>13.059816123454882, 77.77068662374292</td>\n",
       "      <td>92</td>\n",
       "      <td>KA11GH3456</td>\n",
       "      <td>Fraud</td>\n",
       "    </tr>\n",
       "    <tr>\n",
       "      <th>4</th>\n",
       "      <td>5</td>\n",
       "      <td>1/10/2023 6:35</td>\n",
       "      <td>Van</td>\n",
       "      <td>FTG-505-DEF-652</td>\n",
       "      <td>B-102</td>\n",
       "      <td>Express</td>\n",
       "      <td>Medium</td>\n",
       "      <td>140</td>\n",
       "      <td>100</td>\n",
       "      <td>13.059816123454882, 77.77068662374292</td>\n",
       "      <td>60</td>\n",
       "      <td>KA44IJ6789</td>\n",
       "      <td>Fraud</td>\n",
       "    </tr>\n",
       "  </tbody>\n",
       "</table>\n",
       "</div>"
      ],
      "text/plain": [
       "   Transaction_ID       Timestamp Vehicle_Type         FastagID TollBoothID  \\\n",
       "0               1  1/6/2023 11:20         Bus   FTG-001-ABC-121       A-101   \n",
       "1               2  1/7/2023 14:55          Car  FTG-002-XYZ-451       B-102   \n",
       "2               3  1/8/2023 18:25   Motorcycle              NaN       D-104   \n",
       "3               4   1/9/2023 2:05        Truck  FTG-044-LMN-322       C-103   \n",
       "4               5  1/10/2023 6:35          Van  FTG-505-DEF-652       B-102   \n",
       "\n",
       "  Lane_Type Vehicle_Dimensions  Transaction_Amount  Amount_paid  \\\n",
       "0   Express              Large                 350          120   \n",
       "1   Regular              Small                 120          100   \n",
       "2   Regular              Small                   0            0   \n",
       "3   Regular              Large                 350          120   \n",
       "4   Express             Medium                 140          100   \n",
       "\n",
       "                   Geographical_Location  Vehicle_Speed Vehicle_Plate_Number  \\\n",
       "0  13.059816123454882, 77.77068662374292             65           KA11AB1234   \n",
       "1  13.059816123454882, 77.77068662374292             78           KA66CD5678   \n",
       "2  13.059816123454882, 77.77068662374292             53           KA88EF9012   \n",
       "3  13.059816123454882, 77.77068662374292             92           KA11GH3456   \n",
       "4  13.059816123454882, 77.77068662374292             60           KA44IJ6789   \n",
       "\n",
       "  Fraud_indicator  \n",
       "0           Fraud  \n",
       "1           Fraud  \n",
       "2       Not Fraud  \n",
       "3           Fraud  \n",
       "4           Fraud  "
      ]
     },
     "execution_count": 5,
     "metadata": {},
     "output_type": "execute_result"
    }
   ],
   "source": [
    "df.head()"
   ]
  },
  {
   "cell_type": "code",
   "execution_count": 6,
   "metadata": {
    "colab": {
     "base_uri": "https://localhost:8080/"
    },
    "id": "dq6FTIc1wBa7",
    "outputId": "a7f68d69-7f23-4c65-f1df-681697ca8775"
   },
   "outputs": [
    {
     "data": {
      "text/plain": [
       "Transaction_ID             0\n",
       "Timestamp                  0\n",
       "Vehicle_Type               0\n",
       "FastagID                 549\n",
       "TollBoothID                0\n",
       "Lane_Type                  0\n",
       "Vehicle_Dimensions         0\n",
       "Transaction_Amount         0\n",
       "Amount_paid                0\n",
       "Geographical_Location      0\n",
       "Vehicle_Speed              0\n",
       "Vehicle_Plate_Number       0\n",
       "Fraud_indicator            0\n",
       "dtype: int64"
      ]
     },
     "execution_count": 6,
     "metadata": {},
     "output_type": "execute_result"
    }
   ],
   "source": [
    "# Checking for missing values\n",
    "missing_values = df.isnull().sum()\n",
    "missing_values"
   ]
  },
  {
   "cell_type": "code",
   "execution_count": 7,
   "metadata": {
    "colab": {
     "base_uri": "https://localhost:8080/",
     "height": 410
    },
    "id": "WG9aoZ6sxA-_",
    "outputId": "3d7c349f-3104-4d05-d4b0-c4cf74b67d38"
   },
   "outputs": [
    {
     "data": {
      "image/png": "[encoded data removed]",
      "text/plain": [
       "<Figure size 600x400 with 1 Axes>"
      ]
     },
     "metadata": {},
     "output_type": "display_data"
    }
   ],
   "source": [
    "plt.figure(figsize=(6,4))\n",
    "sns.countplot(x='Fraud_indicator', data=df)\n",
    "plt.title('Fraud Indicator Distribution')\n",
    "plt.show()"
   ]
  },
  {
   "cell_type": "code",
   "execution_count": 8,
   "metadata": {
    "colab": {
     "base_uri": "https://localhost:8080/",
     "height": 526
    },
    "id": "oeSTF6rqxgAR",
    "outputId": "201feb87-f626-4e2a-cf74-3cf5b19a634e"
   },
   "outputs": [
    {
     "data": {
      "image/png": "[encoded data removed]",
      "text/plain": [
       "<Figure size 1500x600 with 4 Axes>"
      ]
     },
     "metadata": {},
     "output_type": "display_data"
    }
   ],
   "source": [
    "numerical_features = ['Transaction_Amount', 'Amount_paid', 'Vehicle_Speed']\n",
    "df[numerical_features].hist(bins=15,figsize=(15,6),layout=(2,2))\n",
    "plt.show()"
   ]
  },
  {
   "cell_type": "markdown",
   "metadata": {
    "id": "-9mdftjmyTjQ"
   },
   "source": [
    "# 2. Feature Engineering"
   ]
  },
  {
   "cell_type": "code",
   "execution_count": 9,
   "metadata": {
    "id": "sc27paSqyW21"
   },
   "outputs": [],
   "source": [
    "# Handle missing values - drop rows with missing target or critical features\n",
    "df.dropna(subset=['Fraud_indicator'], inplace=True)\n"
   ]
  },
  {
   "cell_type": "code",
   "execution_count": 10,
   "metadata": {
    "id": "ArjYyJj8zLMs"
   },
   "outputs": [],
   "source": [
    "# Fill missing values for categorical features with a placeholder\n",
    "df['Vehicle_Type'].fillna('Unknown', inplace=True)\n",
    "df['Lane_Type'].fillna('Unknown', inplace=True)\n",
    "df['Vehicle_Dimensions'].fillna('Unknown', inplace=True)\n",
    "df['FastagID'].fillna('Unknown', inplace=True)\n",
    "df['TollBoothID'].fillna('Unknown', inplace=True)"
   ]
  },
  {
   "cell_type": "code",
   "execution_count": 11,
   "metadata": {
    "id": "eyfWubKFznWi"
   },
   "outputs": [],
   "source": [
    "# Convert categorical variables to numerical using one-hot encoding\n",
    "df = pd.get_dummies(df, columns=['Vehicle_Type', 'Lane_Type', 'Vehicle_Dimensions', 'FastagID', 'TollBoothID'], drop_first=True)\n"
   ]
  },
  {
   "cell_type": "code",
   "execution_count": 12,
   "metadata": {
    "id": "OutXEjZL2kCy"
   },
   "outputs": [],
   "source": [
    "# Convert Timestamp to datetime and extract useful features\n",
    "df['Timestamp'] = pd.to_datetime(df['Timestamp'])\n",
    "df['Hour'] = df['Timestamp'].dt.hour\n",
    "df['Day'] = df['Timestamp'].dt.day\n",
    "df['Month'] = df['Timestamp'].dt.month\n",
    "df['Day_of_Week'] = df['Timestamp'].dt.dayofweek\n"
   ]
  },
  {
   "cell_type": "code",
   "execution_count": 13,
   "metadata": {
    "id": "7Wg0BCnqz1gr"
   },
   "outputs": [],
   "source": [
    "# Convert Fraud_indicator to binary\n",
    "df['Fraud_indicator'] = df['Fraud_indicator'].map({'Fraud': 1, 'Not Fraud': 0})"
   ]
  },
  {
   "cell_type": "code",
   "execution_count": 14,
   "metadata": {
    "id": "jgnxiDJK-DJW"
   },
   "outputs": [],
   "source": [
    "# Split Geographical_Location into Latitude and Longitude\n",
    "df[['Latitude', 'Longitude']] = df['Geographical_Location'].str.split(',', expand=True).astype(float)\n"
   ]
  },
  {
   "cell_type": "code",
   "execution_count": 15,
   "metadata": {
    "id": "NqRMfLqs-DMv"
   },
   "outputs": [],
   "source": [
    "# Drop unnecessary columns\n",
    "df.drop(columns=['Transaction_ID', 'Timestamp', 'Geographical_Location', 'Vehicle_Plate_Number'], inplace=True)"
   ]
  },
  {
   "cell_type": "markdown",
   "metadata": {
    "id": "jJIHjBmg0JSN"
   },
   "source": [
    "# 3. Model Development"
   ]
  },
  {
   "cell_type": "code",
   "execution_count": 16,
   "metadata": {
    "id": "lD3aLNTL0GqE"
   },
   "outputs": [],
   "source": [
    "X = df.drop(columns=['Fraud_indicator'])\n",
    "y = df['Fraud_indicator']"
   ]
  },
  {
   "cell_type": "code",
   "execution_count": 17,
   "metadata": {
    "id": "4T7WT8Sb0fON"
   },
   "outputs": [],
   "source": [
    "X_train, X_test, y_train, y_test = train_test_split(X, y, test_size=0.2, random_state=42, stratify=y)\n"
   ]
  },
  {
   "cell_type": "code",
   "execution_count": 18,
   "metadata": {
    "colab": {
     "base_uri": "https://localhost:8080/",
     "height": 75
    },
    "id": "Ar2LZsyV04L9",
    "outputId": "e0c9fe17-9802-4c24-d58f-641a8914d35d"
   },
   "outputs": [
    {
     "data": {
      "text/html": [
       "<style>#sk-container-id-1 {color: black;background-color: white;}#sk-container-id-1 pre{padding: 0;}#sk-container-id-1 div.sk-toggleable {background-color: white;}#sk-container-id-1 label.sk-toggleable__label {cursor: pointer;display: block;width: 100%;margin-bottom: 0;padding: 0.3em;box-sizing: border-box;text-align: center;}#sk-container-id-1 label.sk-toggleable__label-arrow:before {content: \"▸\";float: left;margin-right: 0.25em;color: #696969;}#sk-container-id-1 label.sk-toggleable__label-arrow:hover:before {color: black;}#sk-container-id-1 div.sk-estimator:hover label.sk-toggleable__label-arrow:before {color: black;}#sk-container-id-1 div.sk-toggleable__content {max-height: 0;max-width: 0;overflow: hidden;text-align: left;background-color: #f0f8ff;}#sk-container-id-1 div.sk-toggleable__content pre {margin: 0.2em;color: black;border-radius: 0.25em;background-color: #f0f8ff;}#sk-container-id-1 input.sk-toggleable__control:checked~div.sk-toggleable__content {max-height: 200px;max-width: 100%;overflow: auto;}#sk-container-id-1 input.sk-toggleable__control:checked~label.sk-toggleable__label-arrow:before {content: \"▾\";}#sk-container-id-1 div.sk-estimator input.sk-toggleable__control:checked~label.sk-toggleable__label {background-color: #d4ebff;}#sk-container-id-1 div.sk-label input.sk-toggleable__control:checked~label.sk-toggleable__label {background-color: #d4ebff;}#sk-container-id-1 input.sk-hidden--visually {border: 0;clip: rect(1px 1px 1px 1px);clip: rect(1px, 1px, 1px, 1px);height: 1px;margin: -1px;overflow: hidden;padding: 0;position: absolute;width: 1px;}#sk-container-id-1 div.sk-estimator {font-family: monospace;background-color: #f0f8ff;border: 1px dotted black;border-radius: 0.25em;box-sizing: border-box;margin-bottom: 0.5em;}#sk-container-id-1 div.sk-estimator:hover {background-color: #d4ebff;}#sk-container-id-1 div.sk-parallel-item::after {content: \"\";width: 100%;border-bottom: 1px solid gray;flex-grow: 1;}#sk-container-id-1 div.sk-label:hover label.sk-toggleable__label {background-color: #d4ebff;}#sk-container-id-1 div.sk-serial::before {content: \"\";position: absolute;border-left: 1px solid gray;box-sizing: border-box;top: 0;bottom: 0;left: 50%;z-index: 0;}#sk-container-id-1 div.sk-serial {display: flex;flex-direction: column;align-items: center;background-color: white;padding-right: 0.2em;padding-left: 0.2em;position: relative;}#sk-container-id-1 div.sk-item {position: relative;z-index: 1;}#sk-container-id-1 div.sk-parallel {display: flex;align-items: stretch;justify-content: center;background-color: white;position: relative;}#sk-container-id-1 div.sk-item::before, #sk-container-id-1 div.sk-parallel-item::before {content: \"\";position: absolute;border-left: 1px solid gray;box-sizing: border-box;top: 0;bottom: 0;left: 50%;z-index: -1;}#sk-container-id-1 div.sk-parallel-item {display: flex;flex-direction: column;z-index: 1;position: relative;background-color: white;}#sk-container-id-1 div.sk-parallel-item:first-child::after {align-self: flex-end;width: 50%;}#sk-container-id-1 div.sk-parallel-item:last-child::after {align-self: flex-start;width: 50%;}#sk-container-id-1 div.sk-parallel-item:only-child::after {width: 0;}#sk-container-id-1 div.sk-dashed-wrapped {border: 1px dashed gray;margin: 0 0.4em 0.5em 0.4em;box-sizing: border-box;padding-bottom: 0.4em;background-color: white;}#sk-container-id-1 div.sk-label label {font-family: monospace;font-weight: bold;display: inline-block;line-height: 1.2em;}#sk-container-id-1 div.sk-label-container {text-align: center;}#sk-container-id-1 div.sk-container {/* jupyter's `normalize.less` sets `[hidden] { display: none; }` but bootstrap.min.css set `[hidden] { display: none !important; }` so we also need the `!important` here to be able to override the default hidden behavior on the sphinx rendered scikit-learn.org. See: https://github.com/scikit-learn/scikit-learn/issues/21755 */display: inline-block !important;position: relative;}#sk-container-id-1 div.sk-text-repr-fallback {display: none;}</style><div id=\"sk-container-id-1\" class=\"sk-top-container\"><div class=\"sk-text-repr-fallback\"><pre>RandomForestClassifier(random_state=42)</pre><b>In a Jupyter environment, please rerun this cell to show the HTML representation or trust the notebook. <br />On GitHub, the HTML representation is unable to render, please try loading this page with nbviewer.org.</b></div><div class=\"sk-container\" hidden><div class=\"sk-item\"><div class=\"sk-estimator sk-toggleable\"><input class=\"sk-toggleable__control sk-hidden--visually\" id=\"sk-estimator-id-1\" type=\"checkbox\" checked><label for=\"sk-estimator-id-1\" class=\"sk-toggleable__label sk-toggleable__label-arrow\">RandomForestClassifier</label><div class=\"sk-toggleable__content\"><pre>RandomForestClassifier(random_state=42)</pre></div></div></div></div></div>"
      ],
      "text/plain": [
       "RandomForestClassifier(random_state=42)"
      ]
     },
     "execution_count": 18,
     "metadata": {},
     "output_type": "execute_result"
    }
   ],
   "source": [
    "model = RandomForestClassifier(random_state=42)\n",
    "model.fit(X_train, y_train)"
   ]
  },
  {
   "cell_type": "code",
   "execution_count": 19,
   "metadata": {
    "colab": {
     "base_uri": "https://localhost:8080/"
    },
    "id": "9ypgCCbqQPsc",
    "outputId": "f2d977af-a4b7-411a-ec81-53e544ef4081"
   },
   "outputs": [
    {
     "data": {
      "text/plain": [
       "['fastag_fraud_detection_model.joblib']"
      ]
     },
     "execution_count": 19,
     "metadata": {},
     "output_type": "execute_result"
    }
   ],
   "source": [
    "#Save model\n",
    "joblib.dump(model, 'fastag_fraud_detection_model.joblib')"
   ]
  },
  {
   "cell_type": "code",
   "execution_count": 20,
   "metadata": {
    "id": "vmIcn0w7-Smo"
   },
   "outputs": [],
   "source": [
    "# Make predictions\n",
    "y_pred = model.predict(X_test)\n"
   ]
  },
  {
   "cell_type": "code",
   "execution_count": 21,
   "metadata": {
    "colab": {
     "base_uri": "https://localhost:8080/"
    },
    "id": "4tzhZ5Ej_cxS",
    "outputId": "e91a8651-5a21-4e9f-9522-fbb93f15a9c9"
   },
   "outputs": [
    {
     "name": "stdout",
     "output_type": "stream",
     "text": [
      "[[803   0]\n",
      " [ 49 148]]\n",
      "              precision    recall  f1-score   support\n",
      "\n",
      "           0       0.94      1.00      0.97       803\n",
      "           1       1.00      0.75      0.86       197\n",
      "\n",
      "    accuracy                           0.95      1000\n",
      "   macro avg       0.97      0.88      0.91      1000\n",
      "weighted avg       0.95      0.95      0.95      1000\n",
      "\n",
      "Accuracy: 0.951\n",
      "Precision: 1.0\n",
      "Recall: 0.751269035532995\n",
      "F1 Score: 0.8579710144927536\n"
     ]
    }
   ],
   "source": [
    "# Evaluate the model\n",
    "print(confusion_matrix(y_test, y_pred))\n",
    "print(classification_report(y_test, y_pred))\n",
    "print(\"Accuracy:\", accuracy_score(y_test, y_pred))\n",
    "print(\"Precision:\", precision_score(y_test, y_pred))\n",
    "print(\"Recall:\", recall_score(y_test, y_pred))\n",
    "print(\"F1 Score:\", f1_score(y_test, y_pred))"
   ]
  },
  {
   "cell_type": "markdown",
   "metadata": {
    "id": "DHd4ejVL_t28"
   },
   "source": [
    "# 4. Explanatory Analysis"
   ]
  },
  {
   "cell_type": "code",
   "execution_count": 22,
   "metadata": {
    "colab": {
     "base_uri": "https://localhost:8080/",
     "height": 973
    },
    "id": "Eeh-xr_4_rvi",
    "outputId": "91a42fed-a55d-4096-e05c-5208a376cd53"
   },
   "outputs": [
    {
     "name": "stdout",
     "output_type": "stream",
     "text": [
      "                       Feature  Importance\n",
      "1                  Amount_paid    0.290552\n",
      "0           Transaction_Amount    0.054584\n",
      "2                Vehicle_Speed    0.031733\n",
      "4469                       Day    0.029835\n",
      "4468                      Hour    0.027078\n",
      "...                        ...         ...\n",
      "2970  FastagID_FTG-527-HGT-109    0.000000\n",
      "2961  FastagID_FTG-524-CDE-092    0.000000\n",
      "2960  FastagID_FTG-523-NMK-322    0.000000\n",
      "2958  FastagID_FTG-523-JKL-678    0.000000\n",
      "2241  FastagID_FTG-379-HIJ-012    0.000000\n",
      "\n",
      "[4474 rows x 2 columns]\n"
     ]
    },
    {
     "data": {
      "image/png": "[encoded data removed]",
      "text/plain": [
       "<Figure size 1200x800 with 1 Axes>"
      ]
     },
     "metadata": {},
     "output_type": "display_data"
    }
   ],
   "source": [
    "# Extract feature importances\n",
    "importances = model.feature_importances_\n",
    "feature_names = X.columns\n",
    "feature_importances = pd.DataFrame({'Feature': feature_names, 'Importance': importances})\n",
    "\n",
    "# Sort feature importances\n",
    "feature_importances = feature_importances.sort_values(by='Importance', ascending=False)\n",
    "print(feature_importances)\n",
    "\n",
    "# Plot feature importances\n",
    "plt.figure(figsize=(12, 8))\n",
    "sns.barplot(x='Importance', y='Feature', data=feature_importances)\n",
    "plt.title('Feature Importances')\n",
    "plt.show()\n"
   ]
  },
  {
   "cell_type": "markdown",
   "metadata": {
    "id": "j8PA7fJv_AcD"
   },
   "source": [
    "# 5. Real-time Fraud Detection"
   ]
  },
  {
   "cell_type": "code",
   "execution_count": 23,
   "metadata": {
    "id": "RnBmz6_--SpC"
   },
   "outputs": [],
   "source": [
    "input_data = {\n",
    "    'Transaction_Amount': 120,\n",
    "    'Amount_paid': 120,\n",
    "    'Vehicle_Speed': 60,\n",
    "    'Hour': 10,\n",
    "    'Day': 20,\n",
    "    'Month': 6,\n",
    "    'Day_of_Week': 4,  # Thursday\n",
    "    'Latitude': 13.059816123454882,\n",
    "    'Longitude': 77.77068662374292,\n",
    "    'Vehicle_Type_Car': 1,\n",
    "    'Vehicle_Type_Motorcycle': 0,\n",
    "    'Vehicle_Type_SUV': 0,\n",
    "    'Vehicle_Type_Sedan': 0,\n",
    "    'Vehicle_Type_Truck': 0,\n",
    "    'Vehicle_Type_Van': 0,\n",
    "    'Vehicle_Type_Bus': 0,\n",
    "    'Vehicle_Type_Unknown': 0,\n",
    "    'Lane_Type_Express': 0,\n",
    "    'Lane_Type_Regular': 1,\n",
    "    'Lane_Type_Unknown': 0,\n",
    "    'Vehicle_Dimensions_Large': 0,\n",
    "    'Vehicle_Dimensions_Medium': 0,\n",
    "    'Vehicle_Dimensions_Small': 1,\n",
    "    'Vehicle_Dimensions_Unknown': 0,\n",
    "    'FastagID_FTG-999-XYZ-123': 1,  # assuming this FastagID is present in data, otherwise use 'FastagID_Unknown': 1\n",
    "    'TollBoothID_A-102': 1,\n",
    "    'TollBoothID_Unknown': 0\n",
    "}\n",
    "\n"
   ]
  },
  {
   "cell_type": "code",
   "execution_count": 24,
   "metadata": {
    "id": "IuX97V6j_n2N"
   },
   "outputs": [],
   "source": [
    "sample_df = pd.DataFrame([input_data])\n",
    "\n",
    "sample_df = sample_df.reindex(columns=X_train.columns, fill_value=0)\n",
    "\n",
    "sample_prediction = model.predict(sample_df)"
   ]
  },
  {
   "cell_type": "code",
   "execution_count": 25,
   "metadata": {
    "colab": {
     "base_uri": "https://localhost:8080/"
    },
    "id": "XfGmWDVO_o94",
    "outputId": "5cb968ac-7516-44de-d26a-78bbc2215430"
   },
   "outputs": [
    {
     "name": "stdout",
     "output_type": "stream",
     "text": [
      "Prediction: Not Fraud\n"
     ]
    }
   ],
   "source": [
    "print(\"Prediction:\", \"Fraud\" if sample_prediction[0] == 1 else \"Not Fraud\")"
   ]
  },
  {
   "cell_type": "markdown",
   "metadata": {
    "id": "uZfSLXsoOqFk"
   },
   "source": [
    "#Deployment using FastAPI"
   ]
  },
  {
   "cell_type": "code",
   "execution_count": 22,
   "metadata": {
    "colab": {
     "base_uri": "https://localhost:8080/"
    },
    "id": "ynav7Nr3_3Bv",
    "outputId": "2a8bea2a-d308-4f27-f993-8890d9839095"
   },
   "outputs": [
    {
     "name": "stdout",
     "output_type": "stream",
     "text": [
      "Collecting fastapi\n",
      "  Downloading fastapi-0.111.0-py3-none-any.whl (91 kB)\n",
      "\u001b[2K     \u001b[90m━━━━━━━━━━━━━━━━━━━━━━━━━━━━━━━━━━━━━━━━\u001b[0m \u001b[32m92.0/92.0 kB\u001b[0m \u001b[31m1.8 MB/s\u001b[0m eta \u001b[36m0:00:00\u001b[0m\n",
      "\u001b[?25hCollecting starlette<0.38.0,>=0.37.2 (from fastapi)\n",
      "  Downloading starlette-0.37.2-py3-none-any.whl (71 kB)\n",
      "\u001b[2K     \u001b[90m━━━━━━━━━━━━━━━━━━━━━━━━━━━━━━━━━━━━━━━━\u001b[0m \u001b[32m71.9/71.9 kB\u001b[0m \u001b[31m5.3 MB/s\u001b[0m eta \u001b[36m0:00:00\u001b[0m\n",
      "\u001b[?25hRequirement already satisfied: pydantic!=1.8,!=1.8.1,!=2.0.0,!=2.0.1,!=2.1.0,<3.0.0,>=1.7.4 in /usr/local/lib/python3.10/dist-packages (from fastapi) (2.7.4)\n",
      "Requirement already satisfied: typing-extensions>=4.8.0 in /usr/local/lib/python3.10/dist-packages (from fastapi) (4.12.2)\n",
      "Collecting fastapi-cli>=0.0.2 (from fastapi)\n",
      "  Downloading fastapi_cli-0.0.4-py3-none-any.whl (9.5 kB)\n",
      "Collecting httpx>=0.23.0 (from fastapi)\n",
      "  Downloading httpx-0.27.0-py3-none-any.whl (75 kB)\n",
      "\u001b[2K     \u001b[90m━━━━━━━━━━━━━━━━━━━━━━━━━━━━━━━━━━━━━━━━\u001b[0m \u001b[32m75.6/75.6 kB\u001b[0m \u001b[31m4.9 MB/s\u001b[0m eta \u001b[36m0:00:00\u001b[0m\n",
      "\u001b[?25hRequirement already satisfied: jinja2>=2.11.2 in /usr/local/lib/python3.10/dist-packages (from fastapi) (3.1.4)\n",
      "Collecting python-multipart>=0.0.7 (from fastapi)\n",
      "  Downloading python_multipart-0.0.9-py3-none-any.whl (22 kB)\n",
      "Collecting ujson!=4.0.2,!=4.1.0,!=4.2.0,!=4.3.0,!=5.0.0,!=5.1.0,>=4.0.1 (from fastapi)\n",
      "  Downloading ujson-5.10.0-cp310-cp310-manylinux_2_17_x86_64.manylinux2014_x86_64.whl (53 kB)\n",
      "\u001b[2K     \u001b[90m━━━━━━━━━━━━━━━━━━━━━━━━━━━━━━━━━━━━━━━━\u001b[0m \u001b[32m53.6/53.6 kB\u001b[0m \u001b[31m4.3 MB/s\u001b[0m eta \u001b[36m0:00:00\u001b[0m\n",
      "\u001b[?25hCollecting orjson>=3.2.1 (from fastapi)\n",
      "  Downloading orjson-3.10.5-cp310-cp310-manylinux_2_17_x86_64.manylinux2014_x86_64.whl (144 kB)\n",
      "\u001b[2K     \u001b[90m━━━━━━━━━━━━━━━━━━━━━━━━━━━━━━━━━━━━━━━━\u001b[0m \u001b[32m145.0/145.0 kB\u001b[0m \u001b[31m5.6 MB/s\u001b[0m eta \u001b[36m0:00:00\u001b[0m\n",
      "\u001b[?25hCollecting email_validator>=2.0.0 (from fastapi)\n",
      "  Downloading email_validator-2.2.0-py3-none-any.whl (33 kB)\n",
      "Collecting uvicorn[standard]>=0.12.0 (from fastapi)\n",
      "  Downloading uvicorn-0.30.1-py3-none-any.whl (62 kB)\n",
      "\u001b[2K     \u001b[90m━━━━━━━━━━━━━━━━━━━━━━━━━━━━━━━━━━━━━━━━\u001b[0m \u001b[32m62.4/62.4 kB\u001b[0m \u001b[31m5.6 MB/s\u001b[0m eta \u001b[36m0:00:00\u001b[0m\n",
      "\u001b[?25hCollecting dnspython>=2.0.0 (from email_validator>=2.0.0->fastapi)\n",
      "  Downloading dnspython-2.6.1-py3-none-any.whl (307 kB)\n",
      "\u001b[2K     \u001b[90m━━━━━━━━━━━━━━━━━━━━━━━━━━━━━━━━━━━━━━━━\u001b[0m \u001b[32m307.7/307.7 kB\u001b[0m \u001b[31m5.8 MB/s\u001b[0m eta \u001b[36m0:00:00\u001b[0m\n",
      "\u001b[?25hRequirement already satisfied: idna>=2.0.0 in /usr/local/lib/python3.10/dist-packages (from email_validator>=2.0.0->fastapi) (3.7)\n",
      "Requirement already satisfied: typer>=0.12.3 in /usr/local/lib/python3.10/dist-packages (from fastapi-cli>=0.0.2->fastapi) (0.12.3)\n",
      "Requirement already satisfied: anyio in /usr/local/lib/python3.10/dist-packages (from httpx>=0.23.0->fastapi) (3.7.1)\n",
      "Requirement already satisfied: certifi in /usr/local/lib/python3.10/dist-packages (from httpx>=0.23.0->fastapi) (2024.6.2)\n",
      "Collecting httpcore==1.* (from httpx>=0.23.0->fastapi)\n",
      "  Downloading httpcore-1.0.5-py3-none-any.whl (77 kB)\n",
      "\u001b[2K     \u001b[90m━━━━━━━━━━━━━━━━━━━━━━━━━━━━━━━━━━━━━━━━\u001b[0m \u001b[32m77.9/77.9 kB\u001b[0m \u001b[31m7.5 MB/s\u001b[0m eta \u001b[36m0:00:00\u001b[0m\n",
      "\u001b[?25hRequirement already satisfied: sniffio in /usr/local/lib/python3.10/dist-packages (from httpx>=0.23.0->fastapi) (1.3.1)\n",
      "Collecting h11<0.15,>=0.13 (from httpcore==1.*->httpx>=0.23.0->fastapi)\n",
      "  Downloading h11-0.14.0-py3-none-any.whl (58 kB)\n",
      "\u001b[2K     \u001b[90m━━━━━━━━━━━━━━━━━━━━━━━━━━━━━━━━━━━━━━━━\u001b[0m \u001b[32m58.3/58.3 kB\u001b[0m \u001b[31m7.2 MB/s\u001b[0m eta \u001b[36m0:00:00\u001b[0m\n",
      "\u001b[?25hRequirement already satisfied: MarkupSafe>=2.0 in /usr/local/lib/python3.10/dist-packages (from jinja2>=2.11.2->fastapi) (2.1.5)\n",
      "Requirement already satisfied: annotated-types>=0.4.0 in /usr/local/lib/python3.10/dist-packages (from pydantic!=1.8,!=1.8.1,!=2.0.0,!=2.0.1,!=2.1.0,<3.0.0,>=1.7.4->fastapi) (0.7.0)\n",
      "Requirement already satisfied: pydantic-core==2.18.4 in /usr/local/lib/python3.10/dist-packages (from pydantic!=1.8,!=1.8.1,!=2.0.0,!=2.0.1,!=2.1.0,<3.0.0,>=1.7.4->fastapi) (2.18.4)\n",
      "Requirement already satisfied: click>=7.0 in /usr/local/lib/python3.10/dist-packages (from uvicorn[standard]>=0.12.0->fastapi) (8.1.7)\n",
      "Collecting httptools>=0.5.0 (from uvicorn[standard]>=0.12.0->fastapi)\n",
      "  Downloading httptools-0.6.1-cp310-cp310-manylinux_2_5_x86_64.manylinux1_x86_64.manylinux_2_17_x86_64.manylinux2014_x86_64.whl (341 kB)\n",
      "\u001b[2K     \u001b[90m━━━━━━━━━━━━━━━━━━━━━━━━━━━━━━━━━━━━━━━━\u001b[0m \u001b[32m341.4/341.4 kB\u001b[0m \u001b[31m7.4 MB/s\u001b[0m eta \u001b[36m0:00:00\u001b[0m\n",
      "\u001b[?25hCollecting python-dotenv>=0.13 (from uvicorn[standard]>=0.12.0->fastapi)\n",
      "  Downloading python_dotenv-1.0.1-py3-none-any.whl (19 kB)\n",
      "Requirement already satisfied: pyyaml>=5.1 in /usr/local/lib/python3.10/dist-packages (from uvicorn[standard]>=0.12.0->fastapi) (6.0.1)\n",
      "Collecting uvloop!=0.15.0,!=0.15.1,>=0.14.0 (from uvicorn[standard]>=0.12.0->fastapi)\n",
      "  Downloading uvloop-0.19.0-cp310-cp310-manylinux_2_17_x86_64.manylinux2014_x86_64.whl (3.4 MB)\n",
      "\u001b[2K     \u001b[90m━━━━━━━━━━━━━━━━━━━━━━━━━━━━━━━━━━━━━━━━\u001b[0m \u001b[32m3.4/3.4 MB\u001b[0m \u001b[31m11.6 MB/s\u001b[0m eta \u001b[36m0:00:00\u001b[0m\n",
      "\u001b[?25hCollecting watchfiles>=0.13 (from uvicorn[standard]>=0.12.0->fastapi)\n",
      "  Downloading watchfiles-0.22.0-cp310-cp310-manylinux_2_17_x86_64.manylinux2014_x86_64.whl (1.2 MB)\n",
      "\u001b[2K     \u001b[90m━━━━━━━━━━━━━━━━━━━━━━━━━━━━━━━━━━━━━━━━\u001b[0m \u001b[32m1.2/1.2 MB\u001b[0m \u001b[31m20.3 MB/s\u001b[0m eta \u001b[36m0:00:00\u001b[0m\n",
      "\u001b[?25hCollecting websockets>=10.4 (from uvicorn[standard]>=0.12.0->fastapi)\n",
      "  Downloading websockets-12.0-cp310-cp310-manylinux_2_5_x86_64.manylinux1_x86_64.manylinux_2_17_x86_64.manylinux2014_x86_64.whl (130 kB)\n",
      "\u001b[2K     \u001b[90m━━━━━━━━━━━━━━━━━━━━━━━━━━━━━━━━━━━━━━━━\u001b[0m \u001b[32m130.2/130.2 kB\u001b[0m \u001b[31m14.5 MB/s\u001b[0m eta \u001b[36m0:00:00\u001b[0m\n",
      "\u001b[?25hRequirement already satisfied: exceptiongroup in /usr/local/lib/python3.10/dist-packages (from anyio->httpx>=0.23.0->fastapi) (1.2.1)\n",
      "Requirement already satisfied: shellingham>=1.3.0 in /usr/local/lib/python3.10/dist-packages (from typer>=0.12.3->fastapi-cli>=0.0.2->fastapi) (1.5.4)\n",
      "Requirement already satisfied: rich>=10.11.0 in /usr/local/lib/python3.10/dist-packages (from typer>=0.12.3->fastapi-cli>=0.0.2->fastapi) (13.7.1)\n",
      "Requirement already satisfied: markdown-it-py>=2.2.0 in /usr/local/lib/python3.10/dist-packages (from rich>=10.11.0->typer>=0.12.3->fastapi-cli>=0.0.2->fastapi) (3.0.0)\n",
      "Requirement already satisfied: pygments<3.0.0,>=2.13.0 in /usr/local/lib/python3.10/dist-packages (from rich>=10.11.0->typer>=0.12.3->fastapi-cli>=0.0.2->fastapi) (2.16.1)\n",
      "Requirement already satisfied: mdurl~=0.1 in /usr/local/lib/python3.10/dist-packages (from markdown-it-py>=2.2.0->rich>=10.11.0->typer>=0.12.3->fastapi-cli>=0.0.2->fastapi) (0.1.2)\n",
      "Installing collected packages: websockets, uvloop, ujson, python-multipart, python-dotenv, orjson, httptools, h11, dnspython, watchfiles, uvicorn, starlette, httpcore, email_validator, httpx, fastapi-cli, fastapi\n",
      "Successfully installed dnspython-2.6.1 email_validator-2.2.0 fastapi-0.111.0 fastapi-cli-0.0.4 h11-0.14.0 httpcore-1.0.5 httptools-0.6.1 httpx-0.27.0 orjson-3.10.5 python-dotenv-1.0.1 python-multipart-0.0.9 starlette-0.37.2 ujson-5.10.0 uvicorn-0.30.1 uvloop-0.19.0 watchfiles-0.22.0 websockets-12.0\n"
     ]
    }
   ],
   "source": [
    "!pip install fastapi"
   ]
  },
  {
   "cell_type": "code",
   "execution_count": 26,
   "metadata": {
    "id": "ezn-JLSDOyVa"
   },
   "outputs": [],
   "source": [
    "from fastapi import FastAPI\n",
    "from pydantic import BaseModel"
   ]
  },
  {
   "cell_type": "code",
   "execution_count": 27,
   "metadata": {
    "id": "dPa905SSPyyo"
   },
   "outputs": [],
   "source": [
    "model = joblib.load('fastag_fraud_detection_model.joblib')\n",
    "\n",
    "app = FastAPI()"
   ]
  },
  {
   "cell_type": "code",
   "execution_count": 28,
   "metadata": {
    "id": "e-YzVef2P2AB"
   },
   "outputs": [],
   "source": [
    "class FastagTransaction(BaseModel):\n",
    "    Transaction_Amount: float\n",
    "    Amount_paid: float\n",
    "    Vehicle_Speed: float\n",
    "    Hour: int\n",
    "    Day: int\n",
    "    Month: int\n",
    "    Day_of_Week: int\n",
    "    Latitude: float\n",
    "    Longitude: float\n",
    "    Vehicle_Type_Car: int\n",
    "    Vehicle_Type_Motorcycle: int\n",
    "    Vehicle_Type_SUV: int\n",
    "    Vehicle_Type_Sedan: int\n",
    "    Vehicle_Type_Truck: int\n",
    "    Vehicle_Type_Van: int\n",
    "    Vehicle_Type_Bus: int\n",
    "    Vehicle_Type_Unknown: int\n",
    "    Lane_Type_Express: int\n",
    "    Lane_Type_Regular: int\n",
    "    Lane_Type_Unknown: int\n",
    "    Vehicle_Dimensions_Large: int\n",
    "    Vehicle_Dimensions_Medium: int\n",
    "    Vehicle_Dimensions_Small: int\n",
    "    Vehicle_Dimensions_Unknown: int\n",
    "    FastagID_FTG_999_XYZ_123: int\n",
    "    TollBoothID_A_102: int\n",
    "    TollBoothID_Unknown: int\n"
   ]
  },
  {
   "cell_type": "code",
   "execution_count": 29,
   "metadata": {
    "id": "czvzLXxEP7QI"
   },
   "outputs": [],
   "source": [
    "@app.post(\"/predict\")\n",
    "def predict(transaction: FastagTransaction):\n",
    "    input_data = pd.DataFrame([transaction.dict()])\n",
    "\n",
    "    input_data = input_data.reindex(columns=model.feature_names_in_, fill_value=0)\n",
    "\n",
    "    prediction = model.predict(input_data)\n",
    "\n",
    "    return {\"prediction\": \"Fraud\" if prediction[0] == 1 else \"Not Fraud\"}"
   ]
  },
  {
   "cell_type": "code",
   "execution_count": null,
   "metadata": {
    "colab": {
     "base_uri": "https://localhost:8080/"
    },
    "id": "lVZ5fQ1sP9Y5",
    "outputId": "53ec36f4-df48-4285-c23d-959fed321cf9"
   },
   "outputs": [
    {
     "name": "stdout",
     "output_type": "stream",
     "text": [
      "\u001b[32mINFO\u001b[0m:     Will watch for changes in these directories: ['/home/thenumansabir/This PC/3-WorkSpace/Mentorness ML Internship/My Solutions/Fast Tag Fraud detection']\n",
      "\u001b[32mINFO\u001b[0m:     Uvicorn running on \u001b[1mhttp://127.0.0.1:8000\u001b[0m (Press CTRL+C to quit)\n",
      "\u001b[32mINFO\u001b[0m:     Started reloader process [\u001b[36m\u001b[1m42850\u001b[0m] using \u001b[36m\u001b[1mStatReload\u001b[0m\n",
      "\u001b[31mERROR\u001b[0m:    Error loading ASGI app. Could not import module \"app\".\n"
     ]
    }
   ],
   "source": [
    "!uvicorn app:app --reload"
   ]
  },
  {
   "cell_type": "code",
   "execution_count": null,
   "metadata": {},
   "outputs": [],
   "source": []
  }
 ],
 "metadata": {
  "colab": {
   "provenance": []
  },
  "kernelspec": {
   "display_name": "Python 3 (ipykernel)",
   "language": "python",
   "name": "python3"
  },
  "language_info": {
   "codemirror_mode": {
    "name": "ipython",
    "version": 3
   },
   "file_extension": ".py",
   "mimetype": "text/x-python",
   "name": "python",
   "nbconvert_exporter": "python",
   "pygments_lexer": "ipython3",
   "version": "3.9.16"
  }
 },
 "nbformat": 4,
 "nbformat_minor": 1
}
